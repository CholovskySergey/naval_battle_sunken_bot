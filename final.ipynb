{
 "cells": [
  {
   "cell_type": "code",
   "execution_count": 9,
   "metadata": {},
   "outputs": [],
   "source": [
    "class NavalWarfare_v2:\n",
    "    def __init__(self,field_size=10):\n",
    "        state = np.zeros((field_size+2,field_size+2))\n",
    "        ships = [1] * 4 + [2] * 3 + [3] * 2 + [4]\n",
    "        N = field_size\n",
    "        self.actions = np.array(range(N**2))\n",
    "        for ship in ships:\n",
    "#             print(ship)\n",
    "#             print(state.shape)\n",
    "            isNotReady = True       \n",
    "            while isNotReady:\n",
    "                x = np.random.randint(1,field_size+1)\n",
    "                y = np.random.randint(1,field_size+1)\n",
    "                orientation = np.random.randint(2)\n",
    "                isNotReady = False\n",
    "                for i in range(ship):\n",
    "                    if (state[x,y] != 1 \n",
    "                    and state[x-1, y] != 1 and state[x+1, y] != 1\n",
    "                    and state[x, y-1] != 1 and state[x, y+1] != 1\n",
    "                    and state[x-1, y-1] != 1 and state[x+1, y+1] != 1\n",
    "                    and state[x+1, y-1] != 1 and state[x-1, y+1] != 1\n",
    "                    and x in range(1,field_size+1) and y in range(1,field_size+1)):\n",
    "                        state[x,y] = -1\n",
    "                        if orientation == 0:\n",
    "                            x -= 1\n",
    "                        else:\n",
    "                            y -= 1\n",
    "                    else:\n",
    "                        isNotReady = True\n",
    "                        state = np.maximum(state,0)\n",
    "                        break\n",
    "                state = np.abs(state)\n",
    "            \n",
    "            self.state = state[1:-1,1:-1]\n",
    "            self.observable = np.zeros((N,N,2))# one for tested fields, one - for sunken ships\n",
    "            self.N = N\n",
    "\n",
    "            \n",
    "    def set_state(self, state_matix):\n",
    "        self.state = state_matix\n",
    "        \n",
    "    def move(self,action):\n",
    "            x = action % self.N\n",
    "            y = action // self.N\n",
    "            x,y = y,x # test\n",
    "#             print(x,y)\n",
    "            end_game = False\n",
    "            repeat_turn = False\n",
    "            reward = 0\n",
    "            if self.state[x,y] == 1:\n",
    "                self.state[x,y] = -1\n",
    "                self.observable[x,y,0] = 1\n",
    "                self.observable[x,y,1] = 1\n",
    "                if np.max(self.state) == 0:\n",
    "                    end_game = True\n",
    "                    reward = 10 # was 100\n",
    "                else:\n",
    "                    reward = 10 # \n",
    "                    repeat_turn = True\n",
    "            elif self.state[x,y] == -1:\n",
    "                self.state[x,y] = -1\n",
    "                self.observable[x,y,0] = 1\n",
    "                self.observable[x,y,1] = 1\n",
    "            else:\n",
    "                self.observable[x,y,0] = 1\n",
    "            \n",
    "            return reward, end_game, repeat_turn, self.observable"
   ]
  },
  {
   "cell_type": "code",
   "execution_count": 2,
   "metadata": {},
   "outputs": [],
   "source": [
    "import numpy as np\n",
    "import matplotlib.pyplot as plt\n",
    "from keras.models import Sequential\n",
    "from keras.layers import InputLayer\n",
    "from keras.layers import Dense\n",
    "from keras.layers import Maximum\n",
    "from keras.layers import Conv2D,MaxPooling2D,Reshape,Flatten"
   ]
  },
  {
   "cell_type": "code",
   "execution_count": 3,
   "metadata": {},
   "outputs": [],
   "source": [
    "from tqdm import tqdm\n",
    "from keras.optimizers import Adam"
   ]
  },
  {
   "cell_type": "code",
   "execution_count": 4,
   "metadata": {},
   "outputs": [],
   "source": [
    "# simple convolutional filter\n",
    "def model_conv_2():\n",
    "    model = Sequential()\n",
    "    model.add(Reshape((10,10,2),input_shape=(1,200)))\n",
    "    kern_shape = (5,5)\n",
    "    model.add(Conv2D(filters=1,kernel_size =kern_shape,strides=(1,1), padding='same', activation='linear', input_shape=(10, 10, 2)))\n",
    "    \n",
    "    model.add(Flatten())\n",
    "    opt = Adam(learning_rate=0.1)\n",
    "    model.compile(loss='mse', optimizer=opt, metrics=['mse'])\n",
    "    return model"
   ]
  },
  {
   "cell_type": "code",
   "execution_count": 5,
   "metadata": {},
   "outputs": [],
   "source": [
    "def play_game(model, max_turns=100, print_info=True):\n",
    "        turns = 0\n",
    "        field = NavalWarfare_v2(10)\n",
    "        end_game = False\n",
    "        turns = 0\n",
    "        state = np.zeros((10,10,2))\n",
    "        while not end_game and turns < max_turns:\n",
    "            turns += 1\n",
    "    #             print(np.sum(field.state))\n",
    "    #             print(np.sum(state))\n",
    "            Q = model.predict(state.flatten().reshape(1,10,10,2))\n",
    "            action = np.argmax(Q)\n",
    "            reward,end_game,repeat,state = field.move(action)\n",
    "        tested_fields = np.sum(state[:,:,0])\n",
    "        sunken = np.sum(state[:,:,1])\n",
    "        if print_info:\n",
    "#             S = (np.sum(field.state) + 20 ) // 2\n",
    "            print(f'turns : {turns}')\n",
    "            print(f'sunken ships: {sunken}')\n",
    "            print(f'ships left: {20 - sunken}')\n",
    "            print(f'fields tested: {tested_fields}')\n",
    "        return turns, sunken, tested_fields"
   ]
  },
  {
   "cell_type": "code",
   "execution_count": 6,
   "metadata": {},
   "outputs": [],
   "source": [
    "test_turns = []\n",
    "test_sunken = []\n",
    "test_fields = []\n",
    "\n",
    "train_turns = []\n",
    "train_sunken = []\n",
    "train_fields = []\n",
    "episodes = []\n",
    "\n",
    "eps0 = 0.5\n",
    "eps_decay_factor = 0.98\n",
    "num_episodes=100\n",
    "start_epochs = 10\n",
    "discount_factor = 0.99\n",
    "\n",
    "model = model_conv_2()"
   ]
  },
  {
   "cell_type": "code",
   "execution_count": null,
   "metadata": {},
   "outputs": [],
   "source": []
  },
  {
   "cell_type": "code",
   "execution_count": 7,
   "metadata": {
    "scrolled": true
   },
   "outputs": [
    {
     "name": "stderr",
     "output_type": "stream",
     "text": [
      "\r",
      "  0%|                                                                                          | 0/100 [00:00<?, ?it/s]"
     ]
    },
    {
     "name": "stdout",
     "output_type": "stream",
     "text": [
      "WARNING:tensorflow:Model was constructed with shape (None, 1, 200) for input KerasTensor(type_spec=TensorSpec(shape=(None, 1, 200), dtype=tf.float32, name='reshape_input'), name='reshape_input', description=\"created by layer 'reshape_input'\"), but it was called on an input with incompatible shape (None, 200).\n",
      "train play results on episode 0\n",
      "sunken ships: 15.0\n",
      "ships left: 5.0\n",
      "fields tested: 68.0\n",
      "-------------\n",
      "train play results on episode 0\n",
      "sunken ships: 16.0\n",
      "ships left: 4.0\n",
      "fields tested: 84.0\n",
      "-------------\n",
      "train play results on episode 0\n",
      "sunken ships: 19.0\n",
      "ships left: 1.0\n",
      "fields tested: 94.0\n",
      "-------------\n",
      "train play results on episode 0\n",
      "sunken ships: 19.0\n",
      "ships left: 1.0\n",
      "fields tested: 97.0\n",
      "-------------\n",
      "test play results after episode 0\n",
      "WARNING:tensorflow:Model was constructed with shape (None, 1, 200) for input KerasTensor(type_spec=TensorSpec(shape=(None, 1, 200), dtype=tf.float32, name='reshape_input'), name='reshape_input', description=\"created by layer 'reshape_input'\"), but it was called on an input with incompatible shape (None, 10, 10, 2).\n"
     ]
    },
    {
     "name": "stderr",
     "output_type": "stream",
     "text": [
      "\r",
      "  1%|▊                                                                               | 1/100 [00:58<1:36:15, 58.34s/it]"
     ]
    },
    {
     "name": "stdout",
     "output_type": "stream",
     "text": [
      "turns : 100\n",
      "sunken ships: 4.0\n",
      "ships left: 16.0\n",
      "fields tested: 22.0\n",
      "train play results on episode 1\n",
      "sunken ships: 15.0\n",
      "ships left: 5.0\n",
      "fields tested: 61.0\n",
      "-------------\n",
      "train play results on episode 1\n",
      "sunken ships: 18.0\n",
      "ships left: 2.0\n",
      "fields tested: 88.0\n",
      "-------------\n",
      "train play results on episode 1\n",
      "sunken ships: 19.0\n",
      "ships left: 1.0\n",
      "fields tested: 93.0\n",
      "-------------\n"
     ]
    },
    {
     "name": "stderr",
     "output_type": "stream",
     "text": [
      "\r",
      "  2%|█▌                                                                              | 2/100 [01:47<1:30:40, 55.52s/it]"
     ]
    },
    {
     "name": "stdout",
     "output_type": "stream",
     "text": [
      "train play results on episode 2\n",
      "sunken ships: 14.0\n",
      "ships left: 6.0\n",
      "fields tested: 63.0\n",
      "-------------\n"
     ]
    },
    {
     "name": "stderr",
     "output_type": "stream",
     "text": [
      "\r",
      "  3%|██▍                                                                             | 3/100 [02:13<1:15:42, 46.83s/it]"
     ]
    },
    {
     "name": "stdout",
     "output_type": "stream",
     "text": [
      "train play results on episode 3\n",
      "sunken ships: 16.0\n",
      "ships left: 4.0\n",
      "fields tested: 66.0\n",
      "-------------\n"
     ]
    },
    {
     "name": "stderr",
     "output_type": "stream",
     "text": [
      "\r",
      "  4%|███▏                                                                            | 4/100 [02:38<1:04:08, 40.09s/it]"
     ]
    },
    {
     "name": "stdout",
     "output_type": "stream",
     "text": [
      "train play results on episode 4\n",
      "sunken ships: 12.0\n",
      "ships left: 8.0\n",
      "fields tested: 58.0\n",
      "-------------\n",
      "train play results on episode 4\n",
      "sunken ships: 19.0\n",
      "ships left: 1.0\n",
      "fields tested: 86.0\n",
      "-------------\n"
     ]
    },
    {
     "name": "stderr",
     "output_type": "stream",
     "text": [
      "\r",
      "  5%|████                                                                              | 5/100 [03:03<56:37, 35.76s/it]"
     ]
    },
    {
     "name": "stdout",
     "output_type": "stream",
     "text": [
      "train play results on episode 5\n",
      "sunken ships: 12.0\n",
      "ships left: 8.0\n",
      "fields tested: 58.0\n",
      "-------------\n",
      "train play results on episode 5\n",
      "sunken ships: 15.0\n",
      "ships left: 5.0\n",
      "fields tested: 84.0\n",
      "-------------\n",
      "train play results on episode 5\n",
      "sunken ships: 17.0\n",
      "ships left: 3.0\n",
      "fields tested: 96.0\n",
      "-------------\n",
      "train play results on episode 5\n",
      "sunken ships: 19.0\n",
      "ships left: 1.0\n",
      "fields tested: 99.0\n",
      "-------------\n"
     ]
    },
    {
     "name": "stderr",
     "output_type": "stream",
     "text": [
      "\r",
      "  6%|████▊                                                                           | 6/100 [03:55<1:03:20, 40.43s/it]"
     ]
    },
    {
     "name": "stdout",
     "output_type": "stream",
     "text": [
      "train play results on episode 6\n",
      "sunken ships: 12.0\n",
      "ships left: 8.0\n",
      "fields tested: 60.0\n",
      "-------------\n",
      "train play results on episode 6\n",
      "sunken ships: 18.0\n",
      "ships left: 2.0\n",
      "fields tested: 89.0\n",
      "-------------\n"
     ]
    },
    {
     "name": "stderr",
     "output_type": "stream",
     "text": [
      "\r",
      "  7%|█████▋                                                                            | 7/100 [04:28<59:28, 38.37s/it]"
     ]
    },
    {
     "name": "stdout",
     "output_type": "stream",
     "text": [
      "train play results on episode 7\n",
      "sunken ships: 15.0\n",
      "ships left: 5.0\n",
      "fields tested: 66.0\n",
      "-------------\n",
      "train play results on episode 7\n",
      "sunken ships: 18.0\n",
      "ships left: 2.0\n",
      "fields tested: 90.0\n",
      "-------------\n"
     ]
    },
    {
     "name": "stderr",
     "output_type": "stream",
     "text": [
      "\r",
      "  8%|██████▌                                                                           | 8/100 [05:03<57:01, 37.19s/it]"
     ]
    },
    {
     "name": "stdout",
     "output_type": "stream",
     "text": [
      "train play results on episode 8\n",
      "sunken ships: 12.0\n",
      "ships left: 8.0\n",
      "fields tested: 64.0\n",
      "-------------\n",
      "train play results on episode 8\n",
      "sunken ships: 18.0\n",
      "ships left: 2.0\n",
      "fields tested: 86.0\n",
      "-------------\n"
     ]
    },
    {
     "name": "stderr",
     "output_type": "stream",
     "text": [
      "\r",
      "  9%|███████▍                                                                          | 9/100 [05:38<55:33, 36.63s/it]"
     ]
    },
    {
     "name": "stdout",
     "output_type": "stream",
     "text": [
      "train play results on episode 9\n",
      "sunken ships: 12.0\n",
      "ships left: 8.0\n",
      "fields tested: 59.0\n",
      "-------------\n",
      "train play results on episode 9\n",
      "sunken ships: 14.0\n",
      "ships left: 6.0\n",
      "fields tested: 83.0\n",
      "-------------\n",
      "train play results on episode 9\n",
      "sunken ships: 19.0\n",
      "ships left: 1.0\n",
      "fields tested: 95.0\n",
      "-------------\n"
     ]
    },
    {
     "name": "stderr",
     "output_type": "stream",
     "text": [
      "\r",
      " 10%|████████                                                                         | 10/100 [06:22<58:08, 38.76s/it]"
     ]
    },
    {
     "name": "stdout",
     "output_type": "stream",
     "text": [
      "pretraining finished\n",
      "train play results on episode 10\n",
      "sunken ships: 13.0\n",
      "ships left: 7.0\n",
      "fields tested: 78.0\n",
      "-------------\n",
      "test play results after episode 10\n"
     ]
    },
    {
     "name": "stderr",
     "output_type": "stream",
     "text": [
      "\r",
      " 11%|████████▉                                                                        | 11/100 [06:38<47:41, 32.15s/it]"
     ]
    },
    {
     "name": "stdout",
     "output_type": "stream",
     "text": [
      "turns : 100\n",
      "sunken ships: 15.0\n",
      "ships left: 5.0\n",
      "fields tested: 72.0\n"
     ]
    },
    {
     "name": "stderr",
     "output_type": "stream",
     "text": [
      "\r",
      " 12%|█████████▋                                                                       | 12/100 [06:51<38:37, 26.33s/it]"
     ]
    },
    {
     "name": "stdout",
     "output_type": "stream",
     "text": [
      "train play results on episode 11\n",
      "sunken ships: 13.0\n",
      "ships left: 7.0\n",
      "fields tested: 71.0\n",
      "-------------\n"
     ]
    },
    {
     "name": "stderr",
     "output_type": "stream",
     "text": [
      "\r",
      " 13%|██████████▌                                                                      | 13/100 [07:04<32:15, 22.25s/it]"
     ]
    },
    {
     "name": "stdout",
     "output_type": "stream",
     "text": [
      "train play results on episode 12\n",
      "sunken ships: 16.0\n",
      "ships left: 4.0\n",
      "fields tested: 78.0\n",
      "-------------\n"
     ]
    },
    {
     "name": "stderr",
     "output_type": "stream",
     "text": [
      "\r",
      " 14%|███████████▎                                                                     | 14/100 [07:17<27:48, 19.40s/it]"
     ]
    },
    {
     "name": "stdout",
     "output_type": "stream",
     "text": [
      "train play results on episode 13\n",
      "sunken ships: 14.0\n",
      "ships left: 6.0\n",
      "fields tested: 78.0\n",
      "-------------\n"
     ]
    },
    {
     "name": "stderr",
     "output_type": "stream",
     "text": [
      "\r",
      " 15%|████████████▏                                                                    | 15/100 [07:30<24:42, 17.44s/it]"
     ]
    },
    {
     "name": "stdout",
     "output_type": "stream",
     "text": [
      "train play results on episode 14\n",
      "sunken ships: 19.0\n",
      "ships left: 1.0\n",
      "fields tested: 79.0\n",
      "-------------\n"
     ]
    },
    {
     "name": "stderr",
     "output_type": "stream",
     "text": [
      "\r",
      " 16%|████████████▉                                                                    | 16/100 [07:42<22:12, 15.87s/it]"
     ]
    },
    {
     "name": "stdout",
     "output_type": "stream",
     "text": [
      "train play results on episode 15\n",
      "sunken ships: 18.0\n",
      "ships left: 2.0\n",
      "fields tested: 82.0\n",
      "-------------\n"
     ]
    },
    {
     "name": "stderr",
     "output_type": "stream",
     "text": [
      "\r",
      " 17%|█████████████▊                                                                   | 17/100 [07:54<20:26, 14.78s/it]"
     ]
    },
    {
     "name": "stdout",
     "output_type": "stream",
     "text": [
      "train play results on episode 16\n",
      "sunken ships: 17.0\n",
      "ships left: 3.0\n",
      "fields tested: 77.0\n",
      "-------------\n"
     ]
    },
    {
     "name": "stderr",
     "output_type": "stream",
     "text": [
      "\r",
      " 18%|██████████████▌                                                                  | 18/100 [08:06<19:04, 13.96s/it]"
     ]
    },
    {
     "name": "stdout",
     "output_type": "stream",
     "text": [
      "train play results on episode 17\n",
      "sunken ships: 18.0\n",
      "ships left: 2.0\n",
      "fields tested: 82.0\n",
      "-------------\n"
     ]
    },
    {
     "name": "stderr",
     "output_type": "stream",
     "text": [
      "\r",
      " 19%|███████████████▍                                                                 | 19/100 [08:19<18:23, 13.62s/it]"
     ]
    },
    {
     "name": "stdout",
     "output_type": "stream",
     "text": [
      "train play results on episode 18\n",
      "sunken ships: 17.0\n",
      "ships left: 3.0\n",
      "fields tested: 83.0\n",
      "-------------\n"
     ]
    },
    {
     "name": "stderr",
     "output_type": "stream",
     "text": [
      "\r",
      " 20%|████████████████▏                                                                | 20/100 [08:31<17:42, 13.28s/it]"
     ]
    },
    {
     "name": "stdout",
     "output_type": "stream",
     "text": [
      "train play results on episode 19\n",
      "sunken ships: 18.0\n",
      "ships left: 2.0\n",
      "fields tested: 85.0\n",
      "-------------\n",
      "train play results on episode 20\n",
      "sunken ships: 16.0\n",
      "ships left: 4.0\n",
      "fields tested: 78.0\n",
      "-------------\n",
      "test play results after episode 20\n"
     ]
    },
    {
     "name": "stderr",
     "output_type": "stream",
     "text": [
      "\r",
      " 21%|█████████████████                                                                | 21/100 [08:48<18:45, 14.25s/it]"
     ]
    },
    {
     "name": "stdout",
     "output_type": "stream",
     "text": [
      "turns : 100\n",
      "sunken ships: 17.0\n",
      "ships left: 3.0\n",
      "fields tested: 89.0\n"
     ]
    },
    {
     "name": "stderr",
     "output_type": "stream",
     "text": [
      " 23%|██████████████████▋                                                              | 23/100 [09:12<17:02, 13.28s/it]"
     ]
    },
    {
     "name": "stdout",
     "output_type": "stream",
     "text": [
      "train play results on episode 22\n",
      "sunken ships: 18.0\n",
      "ships left: 2.0\n",
      "fields tested: 84.0\n",
      "-------------\n"
     ]
    },
    {
     "name": "stderr",
     "output_type": "stream",
     "text": [
      "\r",
      " 24%|███████████████████▍                                                             | 24/100 [09:25<16:35, 13.10s/it]"
     ]
    },
    {
     "name": "stdout",
     "output_type": "stream",
     "text": [
      "train play results on episode 23\n",
      "sunken ships: 17.0\n",
      "ships left: 3.0\n",
      "fields tested: 80.0\n",
      "-------------\n"
     ]
    },
    {
     "name": "stderr",
     "output_type": "stream",
     "text": [
      "\r",
      " 25%|████████████████████▎                                                            | 25/100 [09:37<16:06, 12.89s/it]"
     ]
    },
    {
     "name": "stdout",
     "output_type": "stream",
     "text": [
      "train play results on episode 24\n",
      "sunken ships: 15.0\n",
      "ships left: 5.0\n",
      "fields tested: 81.0\n",
      "-------------\n"
     ]
    },
    {
     "name": "stderr",
     "output_type": "stream",
     "text": [
      "\r",
      " 26%|█████████████████████                                                            | 26/100 [09:50<15:36, 12.66s/it]"
     ]
    },
    {
     "name": "stdout",
     "output_type": "stream",
     "text": [
      "train play results on episode 25\n",
      "sunken ships: 18.0\n",
      "ships left: 2.0\n",
      "fields tested: 82.0\n",
      "-------------\n"
     ]
    },
    {
     "name": "stderr",
     "output_type": "stream",
     "text": [
      "\r",
      " 27%|█████████████████████▊                                                           | 27/100 [10:02<15:14, 12.53s/it]"
     ]
    },
    {
     "name": "stdout",
     "output_type": "stream",
     "text": [
      "train play results on episode 26\n",
      "sunken ships: 18.0\n",
      "ships left: 2.0\n",
      "fields tested: 83.0\n",
      "-------------\n"
     ]
    },
    {
     "name": "stderr",
     "output_type": "stream",
     "text": [
      "\r",
      " 28%|██████████████████████▋                                                          | 28/100 [10:14<15:04, 12.56s/it]"
     ]
    },
    {
     "name": "stdout",
     "output_type": "stream",
     "text": [
      "train play results on episode 27\n",
      "sunken ships: 18.0\n",
      "ships left: 2.0\n",
      "fields tested: 87.0\n",
      "-------------\n"
     ]
    },
    {
     "name": "stderr",
     "output_type": "stream",
     "text": [
      " 30%|████████████████████████▎                                                        | 30/100 [10:39<14:32, 12.46s/it]"
     ]
    },
    {
     "name": "stdout",
     "output_type": "stream",
     "text": [
      "train play results on episode 29\n",
      "sunken ships: 17.0\n",
      "ships left: 3.0\n",
      "fields tested: 77.0\n",
      "-------------\n",
      "train play results on episode 30\n",
      "sunken ships: 17.0\n",
      "ships left: 3.0\n",
      "fields tested: 87.0\n",
      "-------------\n",
      "test play results after episode 30\n"
     ]
    },
    {
     "name": "stderr",
     "output_type": "stream",
     "text": [
      "\r",
      " 31%|█████████████████████████                                                        | 31/100 [10:55<15:41, 13.64s/it]"
     ]
    },
    {
     "name": "stdout",
     "output_type": "stream",
     "text": [
      "turns : 98\n",
      "sunken ships: 20.0\n",
      "ships left: 0.0\n",
      "fields tested: 98.0\n"
     ]
    },
    {
     "name": "stderr",
     "output_type": "stream",
     "text": [
      "\r",
      " 32%|█████████████████████████▉                                                       | 32/100 [11:08<15:10, 13.39s/it]"
     ]
    },
    {
     "name": "stdout",
     "output_type": "stream",
     "text": [
      "train play results on episode 31\n",
      "sunken ships: 18.0\n",
      "ships left: 2.0\n",
      "fields tested: 88.0\n",
      "-------------\n"
     ]
    },
    {
     "name": "stderr",
     "output_type": "stream",
     "text": [
      "\r",
      " 33%|██████████████████████████▋                                                      | 33/100 [11:21<14:36, 13.08s/it]"
     ]
    },
    {
     "name": "stdout",
     "output_type": "stream",
     "text": [
      "train play results on episode 32\n",
      "sunken ships: 16.0\n",
      "ships left: 4.0\n",
      "fields tested: 83.0\n",
      "-------------\n"
     ]
    },
    {
     "name": "stderr",
     "output_type": "stream",
     "text": [
      "\r",
      " 34%|███████████████████████████▌                                                     | 34/100 [11:33<14:14, 12.94s/it]"
     ]
    },
    {
     "name": "stdout",
     "output_type": "stream",
     "text": [
      "train play results on episode 33\n",
      "sunken ships: 19.0\n",
      "ships left: 1.0\n",
      "fields tested: 86.0\n",
      "-------------\n"
     ]
    },
    {
     "name": "stderr",
     "output_type": "stream",
     "text": [
      "\r",
      " 35%|████████████████████████████▎                                                    | 35/100 [11:46<13:58, 12.90s/it]"
     ]
    },
    {
     "name": "stdout",
     "output_type": "stream",
     "text": [
      "train play results on episode 34\n",
      "sunken ships: 19.0\n",
      "ships left: 1.0\n",
      "fields tested: 86.0\n",
      "-------------\n"
     ]
    },
    {
     "name": "stderr",
     "output_type": "stream",
     "text": [
      "\r",
      " 36%|█████████████████████████████▏                                                   | 36/100 [11:59<13:46, 12.92s/it]"
     ]
    },
    {
     "name": "stdout",
     "output_type": "stream",
     "text": [
      "train play results on episode 35\n",
      "sunken ships: 18.0\n",
      "ships left: 2.0\n",
      "fields tested: 89.0\n",
      "-------------\n"
     ]
    },
    {
     "name": "stderr",
     "output_type": "stream",
     "text": [
      "\r",
      " 37%|█████████████████████████████▉                                                   | 37/100 [12:12<13:30, 12.86s/it]"
     ]
    },
    {
     "name": "stdout",
     "output_type": "stream",
     "text": [
      "train play results on episode 36\n",
      "sunken ships: 19.0\n",
      "ships left: 1.0\n",
      "fields tested: 88.0\n",
      "-------------\n"
     ]
    },
    {
     "name": "stderr",
     "output_type": "stream",
     "text": [
      "\r",
      " 38%|██████████████████████████████▊                                                  | 38/100 [12:24<13:11, 12.76s/it]"
     ]
    },
    {
     "name": "stdout",
     "output_type": "stream",
     "text": [
      "train play results on episode 37\n",
      "sunken ships: 18.0\n",
      "ships left: 2.0\n",
      "fields tested: 86.0\n",
      "-------------\n"
     ]
    },
    {
     "name": "stderr",
     "output_type": "stream",
     "text": [
      "\r",
      " 39%|███████████████████████████████▌                                                 | 39/100 [12:38<13:11, 12.97s/it]"
     ]
    },
    {
     "name": "stdout",
     "output_type": "stream",
     "text": [
      "train play results on episode 38\n",
      "sunken ships: 17.0\n",
      "ships left: 3.0\n",
      "fields tested: 87.0\n",
      "-------------\n"
     ]
    },
    {
     "name": "stderr",
     "output_type": "stream",
     "text": [
      "\r",
      " 40%|████████████████████████████████▍                                                | 40/100 [12:51<13:08, 13.13s/it]"
     ]
    },
    {
     "name": "stdout",
     "output_type": "stream",
     "text": [
      "train play results on episode 40\n",
      "sunken ships: 18.0\n",
      "ships left: 2.0\n",
      "fields tested: 86.0\n",
      "-------------\n",
      "test play results after episode 40\n"
     ]
    },
    {
     "name": "stderr",
     "output_type": "stream",
     "text": [
      "\r",
      " 41%|█████████████████████████████████▏                                               | 41/100 [13:08<14:00, 14.25s/it]"
     ]
    },
    {
     "name": "stdout",
     "output_type": "stream",
     "text": [
      "turns : 95\n",
      "sunken ships: 20.0\n",
      "ships left: 0.0\n",
      "fields tested: 95.0\n"
     ]
    },
    {
     "name": "stderr",
     "output_type": "stream",
     "text": [
      "\r",
      " 42%|██████████████████████████████████                                               | 42/100 [13:21<13:16, 13.73s/it]"
     ]
    },
    {
     "name": "stdout",
     "output_type": "stream",
     "text": [
      "train play results on episode 41\n",
      "sunken ships: 18.0\n",
      "ships left: 2.0\n",
      "fields tested: 86.0\n",
      "-------------\n",
      "train play results on episode 42\n",
      "sunken ships: 18.0\n",
      "ships left: 2.0\n",
      "fields tested: 88.0\n",
      "-------------\n"
     ]
    },
    {
     "name": "stderr",
     "output_type": "stream",
     "text": [
      " 44%|███████████████████████████████████▋                                             | 44/100 [13:46<12:21, 13.24s/it]"
     ]
    },
    {
     "name": "stdout",
     "output_type": "stream",
     "text": [
      "train play results on episode 43\n",
      "sunken ships: 18.0\n",
      "ships left: 2.0\n",
      "fields tested: 91.0\n",
      "-------------\n"
     ]
    },
    {
     "name": "stderr",
     "output_type": "stream",
     "text": [
      "\r",
      " 45%|████████████████████████████████████▍                                            | 45/100 [14:00<12:25, 13.56s/it]"
     ]
    },
    {
     "name": "stdout",
     "output_type": "stream",
     "text": [
      "train play results on episode 44\n",
      "sunken ships: 17.0\n",
      "ships left: 3.0\n",
      "fields tested: 84.0\n",
      "-------------\n"
     ]
    },
    {
     "name": "stderr",
     "output_type": "stream",
     "text": [
      "\r",
      " 46%|█████████████████████████████████████▎                                           | 46/100 [14:14<12:15, 13.63s/it]"
     ]
    },
    {
     "name": "stdout",
     "output_type": "stream",
     "text": [
      "train play results on episode 45\n",
      "sunken ships: 18.0\n",
      "ships left: 2.0\n",
      "fields tested: 88.0\n",
      "-------------\n"
     ]
    },
    {
     "name": "stderr",
     "output_type": "stream",
     "text": [
      "\r",
      " 47%|██████████████████████████████████████                                           | 47/100 [14:28<12:00, 13.60s/it]"
     ]
    },
    {
     "name": "stdout",
     "output_type": "stream",
     "text": [
      "train play results on episode 46\n",
      "sunken ships: 18.0\n",
      "ships left: 2.0\n",
      "fields tested: 90.0\n",
      "-------------\n"
     ]
    },
    {
     "name": "stderr",
     "output_type": "stream",
     "text": [
      "\r",
      " 48%|██████████████████████████████████████▉                                          | 48/100 [14:40<11:32, 13.32s/it]"
     ]
    },
    {
     "name": "stdout",
     "output_type": "stream",
     "text": [
      "train play results on episode 47\n",
      "sunken ships: 18.0\n",
      "ships left: 2.0\n",
      "fields tested: 87.0\n",
      "-------------\n"
     ]
    },
    {
     "name": "stderr",
     "output_type": "stream",
     "text": [
      "\r",
      " 49%|███████████████████████████████████████▋                                         | 49/100 [14:53<11:16, 13.27s/it]"
     ]
    },
    {
     "name": "stdout",
     "output_type": "stream",
     "text": [
      "train play results on episode 48\n",
      "sunken ships: 19.0\n",
      "ships left: 1.0\n",
      "fields tested: 93.0\n",
      "-------------\n"
     ]
    },
    {
     "name": "stderr",
     "output_type": "stream",
     "text": [
      "\r",
      " 50%|████████████████████████████████████████▌                                        | 50/100 [15:07<11:07, 13.35s/it]"
     ]
    },
    {
     "name": "stdout",
     "output_type": "stream",
     "text": [
      "train play results on episode 49\n",
      "sunken ships: 19.0\n",
      "ships left: 1.0\n",
      "fields tested: 92.0\n",
      "-------------\n",
      "test play results after episode 50\n"
     ]
    },
    {
     "name": "stderr",
     "output_type": "stream",
     "text": [
      "\r",
      " 51%|█████████████████████████████████████████▎                                       | 51/100 [15:24<11:52, 14.54s/it]"
     ]
    },
    {
     "name": "stdout",
     "output_type": "stream",
     "text": [
      "turns : 99\n",
      "sunken ships: 20.0\n",
      "ships left: 0.0\n",
      "fields tested: 99.0\n"
     ]
    },
    {
     "name": "stderr",
     "output_type": "stream",
     "text": [
      "\r",
      " 52%|██████████████████████████████████████████                                       | 52/100 [15:38<11:22, 14.22s/it]"
     ]
    },
    {
     "name": "stdout",
     "output_type": "stream",
     "text": [
      "train play results on episode 51\n",
      "sunken ships: 18.0\n",
      "ships left: 2.0\n",
      "fields tested: 90.0\n",
      "-------------\n"
     ]
    },
    {
     "name": "stderr",
     "output_type": "stream",
     "text": [
      " 54%|███████████████████████████████████████████▋                                     | 54/100 [16:04<10:27, 13.64s/it]"
     ]
    },
    {
     "name": "stdout",
     "output_type": "stream",
     "text": [
      "train play results on episode 53\n",
      "sunken ships: 18.0\n",
      "ships left: 2.0\n",
      "fields tested: 93.0\n",
      "-------------\n"
     ]
    },
    {
     "name": "stderr",
     "output_type": "stream",
     "text": [
      "\r",
      " 55%|████████████████████████████████████████████▌                                    | 55/100 [16:17<10:08, 13.52s/it]"
     ]
    },
    {
     "name": "stdout",
     "output_type": "stream",
     "text": [
      "train play results on episode 54\n",
      "sunken ships: 14.0\n",
      "ships left: 6.0\n",
      "fields tested: 84.0\n",
      "-------------\n"
     ]
    },
    {
     "name": "stderr",
     "output_type": "stream",
     "text": [
      "\r",
      " 56%|█████████████████████████████████████████████▎                                   | 56/100 [16:31<09:57, 13.58s/it]"
     ]
    },
    {
     "name": "stdout",
     "output_type": "stream",
     "text": [
      "train play results on episode 55\n",
      "sunken ships: 19.0\n",
      "ships left: 1.0\n",
      "fields tested: 89.0\n",
      "-------------\n"
     ]
    },
    {
     "name": "stderr",
     "output_type": "stream",
     "text": [
      "\r",
      " 57%|██████████████████████████████████████████████▏                                  | 57/100 [16:45<09:47, 13.65s/it]"
     ]
    },
    {
     "name": "stdout",
     "output_type": "stream",
     "text": [
      "train play results on episode 56\n",
      "sunken ships: 18.0\n",
      "ships left: 2.0\n",
      "fields tested: 92.0\n",
      "-------------\n"
     ]
    },
    {
     "name": "stderr",
     "output_type": "stream",
     "text": [
      "\r",
      " 58%|██████████████████████████████████████████████▉                                  | 58/100 [16:58<09:25, 13.45s/it]"
     ]
    },
    {
     "name": "stdout",
     "output_type": "stream",
     "text": [
      "train play results on episode 57\n",
      "sunken ships: 17.0\n",
      "ships left: 3.0\n",
      "fields tested: 89.0\n",
      "-------------\n"
     ]
    },
    {
     "name": "stderr",
     "output_type": "stream",
     "text": [
      "\r",
      " 59%|███████████████████████████████████████████████▊                                 | 59/100 [17:11<09:05, 13.32s/it]"
     ]
    },
    {
     "name": "stdout",
     "output_type": "stream",
     "text": [
      "train play results on episode 58\n",
      "sunken ships: 16.0\n",
      "ships left: 4.0\n",
      "fields tested: 92.0\n",
      "-------------\n"
     ]
    },
    {
     "name": "stderr",
     "output_type": "stream",
     "text": [
      "\r",
      " 60%|████████████████████████████████████████████████▌                                | 60/100 [17:24<08:57, 13.45s/it]"
     ]
    },
    {
     "name": "stdout",
     "output_type": "stream",
     "text": [
      "train play results on episode 59\n",
      "sunken ships: 19.0\n",
      "ships left: 1.0\n",
      "fields tested: 96.0\n",
      "-------------\n",
      "train play results on episode 60\n",
      "sunken ships: 19.0\n",
      "ships left: 1.0\n",
      "fields tested: 92.0\n",
      "-------------\n",
      "test play results after episode 60\n"
     ]
    },
    {
     "name": "stderr",
     "output_type": "stream",
     "text": [
      "\r",
      " 61%|█████████████████████████████████████████████████▍                               | 61/100 [17:42<09:37, 14.80s/it]"
     ]
    },
    {
     "name": "stdout",
     "output_type": "stream",
     "text": [
      "turns : 99\n",
      "sunken ships: 20.0\n",
      "ships left: 0.0\n",
      "fields tested: 99.0\n"
     ]
    },
    {
     "name": "stderr",
     "output_type": "stream",
     "text": [
      "\r",
      " 62%|██████████████████████████████████████████████████▏                              | 62/100 [17:56<09:04, 14.32s/it]"
     ]
    },
    {
     "name": "stdout",
     "output_type": "stream",
     "text": [
      "train play results on episode 61\n",
      "sunken ships: 18.0\n",
      "ships left: 2.0\n",
      "fields tested: 91.0\n",
      "-------------\n"
     ]
    },
    {
     "name": "stderr",
     "output_type": "stream",
     "text": [
      "\r",
      " 63%|███████████████████████████████████████████████████                              | 63/100 [18:09<08:40, 14.08s/it]"
     ]
    },
    {
     "name": "stdout",
     "output_type": "stream",
     "text": [
      "train play results on episode 62\n",
      "sunken ships: 19.0\n",
      "ships left: 1.0\n",
      "fields tested: 91.0\n",
      "-------------\n"
     ]
    },
    {
     "name": "stderr",
     "output_type": "stream",
     "text": [
      "\r",
      " 64%|███████████████████████████████████████████████████▊                             | 64/100 [18:22<08:16, 13.79s/it]"
     ]
    },
    {
     "name": "stdout",
     "output_type": "stream",
     "text": [
      "train play results on episode 63\n",
      "sunken ships: 19.0\n",
      "ships left: 1.0\n",
      "fields tested: 92.0\n",
      "-------------\n",
      "train play results on episode 64\n",
      "sunken ships: 19.0\n",
      "ships left: 1.0\n",
      "fields tested: 92.0\n",
      "-------------\n"
     ]
    },
    {
     "name": "stderr",
     "output_type": "stream",
     "text": [
      " 66%|█████████████████████████████████████████████████████▍                           | 66/100 [18:48<07:31, 13.28s/it]"
     ]
    },
    {
     "name": "stdout",
     "output_type": "stream",
     "text": [
      "train play results on episode 65\n",
      "sunken ships: 19.0\n",
      "ships left: 1.0\n",
      "fields tested: 94.0\n",
      "-------------\n"
     ]
    },
    {
     "name": "stderr",
     "output_type": "stream",
     "text": [
      "\r",
      " 67%|██████████████████████████████████████████████████████▎                          | 67/100 [19:01<07:19, 13.32s/it]"
     ]
    },
    {
     "name": "stdout",
     "output_type": "stream",
     "text": [
      "train play results on episode 66\n",
      "sunken ships: 18.0\n",
      "ships left: 2.0\n",
      "fields tested: 92.0\n",
      "-------------\n"
     ]
    },
    {
     "name": "stderr",
     "output_type": "stream",
     "text": [
      "\r",
      " 68%|███████████████████████████████████████████████████████                          | 68/100 [19:14<07:00, 13.13s/it]"
     ]
    },
    {
     "name": "stdout",
     "output_type": "stream",
     "text": [
      "train play results on episode 67\n",
      "sunken ships: 19.0\n",
      "ships left: 1.0\n",
      "fields tested: 92.0\n",
      "-------------\n"
     ]
    },
    {
     "name": "stderr",
     "output_type": "stream",
     "text": [
      "\r",
      " 69%|███████████████████████████████████████████████████████▉                         | 69/100 [19:27<06:48, 13.16s/it]"
     ]
    },
    {
     "name": "stdout",
     "output_type": "stream",
     "text": [
      "train play results on episode 68\n",
      "sunken ships: 17.0\n",
      "ships left: 3.0\n",
      "fields tested: 94.0\n",
      "-------------\n"
     ]
    },
    {
     "name": "stderr",
     "output_type": "stream",
     "text": [
      "\r",
      " 70%|████████████████████████████████████████████████████████▋                        | 70/100 [19:39<06:26, 12.88s/it]"
     ]
    },
    {
     "name": "stdout",
     "output_type": "stream",
     "text": [
      "train play results on episode 70\n",
      "sunken ships: 17.0\n",
      "ships left: 3.0\n",
      "fields tested: 96.0\n",
      "-------------\n",
      "test play results after episode 70\n"
     ]
    },
    {
     "name": "stderr",
     "output_type": "stream",
     "text": [
      "\r",
      " 71%|█████████████████████████████████████████████████████████▌                       | 71/100 [19:56<06:50, 14.15s/it]"
     ]
    },
    {
     "name": "stdout",
     "output_type": "stream",
     "text": [
      "turns : 96\n",
      "sunken ships: 20.0\n",
      "ships left: 0.0\n",
      "fields tested: 96.0\n"
     ]
    },
    {
     "name": "stderr",
     "output_type": "stream",
     "text": [
      "\r",
      " 72%|██████████████████████████████████████████████████████████▎                      | 72/100 [20:10<06:29, 13.91s/it]"
     ]
    },
    {
     "name": "stdout",
     "output_type": "stream",
     "text": [
      "train play results on episode 71\n",
      "sunken ships: 19.0\n",
      "ships left: 1.0\n",
      "fields tested: 89.0\n",
      "-------------\n"
     ]
    },
    {
     "name": "stderr",
     "output_type": "stream",
     "text": [
      "\r",
      " 73%|███████████████████████████████████████████████████████████▏                     | 73/100 [20:23<06:08, 13.64s/it]"
     ]
    },
    {
     "name": "stdout",
     "output_type": "stream",
     "text": [
      "train play results on episode 72\n",
      "sunken ships: 19.0\n",
      "ships left: 1.0\n",
      "fields tested: 96.0\n",
      "-------------\n"
     ]
    },
    {
     "name": "stderr",
     "output_type": "stream",
     "text": [
      " 75%|████████████████████████████████████████████████████████████▊                    | 75/100 [20:48<05:27, 13.11s/it]"
     ]
    },
    {
     "name": "stdout",
     "output_type": "stream",
     "text": [
      "train play results on episode 74\n",
      "sunken ships: 16.0\n",
      "ships left: 4.0\n",
      "fields tested: 90.0\n",
      "-------------\n"
     ]
    },
    {
     "name": "stderr",
     "output_type": "stream",
     "text": [
      "\r",
      " 76%|█████████████████████████████████████████████████████████████▌                   | 76/100 [21:01<05:13, 13.08s/it]"
     ]
    },
    {
     "name": "stdout",
     "output_type": "stream",
     "text": [
      "train play results on episode 75\n",
      "sunken ships: 19.0\n",
      "ships left: 1.0\n",
      "fields tested: 92.0\n",
      "-------------\n"
     ]
    },
    {
     "name": "stderr",
     "output_type": "stream",
     "text": [
      "\r",
      " 77%|██████████████████████████████████████████████████████████████▎                  | 77/100 [21:14<04:59, 13.00s/it]"
     ]
    },
    {
     "name": "stdout",
     "output_type": "stream",
     "text": [
      "train play results on episode 76\n",
      "sunken ships: 18.0\n",
      "ships left: 2.0\n",
      "fields tested: 91.0\n",
      "-------------\n"
     ]
    },
    {
     "name": "stderr",
     "output_type": "stream",
     "text": [
      "\r",
      " 78%|███████████████████████████████████████████████████████████████▏                 | 78/100 [21:26<04:41, 12.77s/it]"
     ]
    },
    {
     "name": "stdout",
     "output_type": "stream",
     "text": [
      "train play results on episode 77\n",
      "sunken ships: 19.0\n",
      "ships left: 1.0\n",
      "fields tested: 93.0\n",
      "-------------\n"
     ]
    },
    {
     "name": "stderr",
     "output_type": "stream",
     "text": [
      "\r",
      " 79%|███████████████████████████████████████████████████████████████▉                 | 79/100 [21:38<04:25, 12.66s/it]"
     ]
    },
    {
     "name": "stdout",
     "output_type": "stream",
     "text": [
      "train play results on episode 78\n",
      "sunken ships: 18.0\n",
      "ships left: 2.0\n",
      "fields tested: 92.0\n",
      "-------------\n"
     ]
    },
    {
     "name": "stderr",
     "output_type": "stream",
     "text": [
      "\r",
      " 80%|████████████████████████████████████████████████████████████████▊                | 80/100 [21:51<04:15, 12.76s/it]"
     ]
    },
    {
     "name": "stdout",
     "output_type": "stream",
     "text": [
      "train play results on episode 79\n",
      "sunken ships: 18.0\n",
      "ships left: 2.0\n",
      "fields tested: 92.0\n",
      "-------------\n",
      "train play results on episode 80\n",
      "sunken ships: 18.0\n",
      "ships left: 2.0\n",
      "fields tested: 89.0\n",
      "-------------\n",
      "test play results after episode 80\n"
     ]
    },
    {
     "name": "stderr",
     "output_type": "stream",
     "text": [
      "\r",
      " 81%|█████████████████████████████████████████████████████████████████▌               | 81/100 [22:09<04:28, 14.13s/it]"
     ]
    },
    {
     "name": "stdout",
     "output_type": "stream",
     "text": [
      "turns : 96\n",
      "sunken ships: 20.0\n",
      "ships left: 0.0\n",
      "fields tested: 96.0\n"
     ]
    },
    {
     "name": "stderr",
     "output_type": "stream",
     "text": [
      " 83%|███████████████████████████████████████████████████████████████████▏             | 83/100 [22:35<03:51, 13.63s/it]"
     ]
    },
    {
     "name": "stdout",
     "output_type": "stream",
     "text": [
      "train play results on episode 82\n",
      "sunken ships: 19.0\n",
      "ships left: 1.0\n",
      "fields tested: 94.0\n",
      "-------------\n"
     ]
    },
    {
     "name": "stderr",
     "output_type": "stream",
     "text": [
      " 85%|████████████████████████████████████████████████████████████████████▊            | 85/100 [23:02<03:22, 13.53s/it]"
     ]
    },
    {
     "name": "stdout",
     "output_type": "stream",
     "text": [
      "train play results on episode 84\n",
      "sunken ships: 19.0\n",
      "ships left: 1.0\n",
      "fields tested: 95.0\n",
      "-------------\n"
     ]
    },
    {
     "name": "stderr",
     "output_type": "stream",
     "text": [
      "\r",
      " 86%|█████████████████████████████████████████████████████████████████████▋           | 86/100 [23:15<03:06, 13.36s/it]"
     ]
    },
    {
     "name": "stdout",
     "output_type": "stream",
     "text": [
      "train play results on episode 85\n",
      "sunken ships: 18.0\n",
      "ships left: 2.0\n",
      "fields tested: 94.0\n",
      "-------------\n"
     ]
    },
    {
     "name": "stderr",
     "output_type": "stream",
     "text": [
      " 88%|███████████████████████████████████████████████████████████████████████▎         | 88/100 [23:41<02:38, 13.17s/it]"
     ]
    },
    {
     "name": "stdout",
     "output_type": "stream",
     "text": [
      "train play results on episode 87\n",
      "sunken ships: 17.0\n",
      "ships left: 3.0\n",
      "fields tested: 91.0\n",
      "-------------\n"
     ]
    },
    {
     "name": "stderr",
     "output_type": "stream",
     "text": [
      "\r",
      " 89%|████████████████████████████████████████████████████████████████████████         | 89/100 [23:53<02:23, 13.08s/it]"
     ]
    },
    {
     "name": "stdout",
     "output_type": "stream",
     "text": [
      "train play results on episode 88\n",
      "sunken ships: 16.0\n",
      "ships left: 4.0\n",
      "fields tested: 92.0\n",
      "-------------\n"
     ]
    },
    {
     "name": "stderr",
     "output_type": "stream",
     "text": [
      "\r",
      " 90%|████████████████████████████████████████████████████████████████████████▉        | 90/100 [24:07<02:10, 13.07s/it]"
     ]
    },
    {
     "name": "stdout",
     "output_type": "stream",
     "text": [
      "train play results on episode 90\n",
      "sunken ships: 19.0\n",
      "ships left: 1.0\n",
      "fields tested: 93.0\n",
      "-------------\n",
      "test play results after episode 90\n"
     ]
    },
    {
     "name": "stderr",
     "output_type": "stream",
     "text": [
      "\r",
      " 91%|█████████████████████████████████████████████████████████████████████████▋       | 91/100 [24:23<02:06, 14.10s/it]"
     ]
    },
    {
     "name": "stdout",
     "output_type": "stream",
     "text": [
      "turns : 96\n",
      "sunken ships: 20.0\n",
      "ships left: 0.0\n",
      "fields tested: 96.0\n"
     ]
    },
    {
     "name": "stderr",
     "output_type": "stream",
     "text": [
      "\r",
      " 92%|██████████████████████████████████████████████████████████████████████████▌      | 92/100 [24:36<01:49, 13.68s/it]"
     ]
    },
    {
     "name": "stdout",
     "output_type": "stream",
     "text": [
      "train play results on episode 91\n",
      "sunken ships: 19.0\n",
      "ships left: 1.0\n",
      "fields tested: 91.0\n",
      "-------------\n"
     ]
    },
    {
     "name": "stderr",
     "output_type": "stream",
     "text": [
      "\r",
      " 93%|███████████████████████████████████████████████████████████████████████████▎     | 93/100 [24:49<01:34, 13.52s/it]"
     ]
    },
    {
     "name": "stdout",
     "output_type": "stream",
     "text": [
      "train play results on episode 92\n",
      "sunken ships: 18.0\n",
      "ships left: 2.0\n",
      "fields tested: 95.0\n",
      "-------------\n"
     ]
    },
    {
     "name": "stderr",
     "output_type": "stream",
     "text": [
      "\r",
      " 94%|████████████████████████████████████████████████████████████████████████████▏    | 94/100 [25:02<01:20, 13.47s/it]"
     ]
    },
    {
     "name": "stdout",
     "output_type": "stream",
     "text": [
      "train play results on episode 93\n",
      "sunken ships: 17.0\n",
      "ships left: 3.0\n",
      "fields tested: 87.0\n",
      "-------------\n"
     ]
    },
    {
     "name": "stderr",
     "output_type": "stream",
     "text": [
      " 96%|█████████████████████████████████████████████████████████████████████████████▊   | 96/100 [25:27<00:52, 13.06s/it]"
     ]
    },
    {
     "name": "stdout",
     "output_type": "stream",
     "text": [
      "train play results on episode 95\n",
      "sunken ships: 19.0\n",
      "ships left: 1.0\n",
      "fields tested: 99.0\n",
      "-------------\n"
     ]
    },
    {
     "name": "stderr",
     "output_type": "stream",
     "text": [
      "100%|████████████████████████████████████████████████████████████████████████████████| 100/100 [26:19<00:00, 15.79s/it]"
     ]
    },
    {
     "name": "stdout",
     "output_type": "stream",
     "text": [
      "train play results on episode 99\n",
      "sunken ships: 19.0\n",
      "ships left: 1.0\n",
      "fields tested: 98.0\n",
      "-------------\n"
     ]
    },
    {
     "name": "stderr",
     "output_type": "stream",
     "text": [
      "\n"
     ]
    }
   ],
   "source": [
    "for i in tqdm(range(num_episodes)):\n",
    "    field = NavalWarfare_v2(10)\n",
    "    N = field.N\n",
    "    actions = field.actions\n",
    "    state = field.observable\n",
    "    if i < start_epochs:\n",
    "        eps = 1\n",
    "    elif i == start_epochs:\n",
    "        print('pretraining finished')\n",
    "        eps = eps0\n",
    "    eps *= eps_decay_factor\n",
    "    end_game = False\n",
    "    turns = 0\n",
    "    target_batch = []\n",
    "    states_batch = []\n",
    "    while not end_game and (turns < 100 or i < start_epochs):\n",
    "        turns += 1\n",
    "        if turns % 100 == 0:\n",
    "#             S = (np.sum(field.state) + 20 ) // 2\n",
    "#             sunken = 20 - S\n",
    "#             tested_fields = np.sum(state < 0)\n",
    "#             print(np.sum(field.state))\n",
    "#             print(np.sum(state))\n",
    "            tested_fields = np.sum(state[:,:,0])\n",
    "            sunken = np.sum(state[:,:,1])\n",
    "            print(f'train play results on episode {i}')\n",
    "            print(f'sunken ships: {sunken}')\n",
    "            print(f'ships left: {20 - sunken}')\n",
    "            print(f'fields tested: {tested_fields}')\n",
    "            print(f'-------------')\n",
    "            \n",
    "        Q = model.predict(state.flatten().reshape(1,-1))\n",
    "        if np.random.random() < eps:\n",
    "            action = np.random.choice(actions)\n",
    "        else:\n",
    "            action = np.argmax(\n",
    "                Q\n",
    "              )\n",
    "        r,end_game,repeat,new_state = field.move(action)\n",
    "        reward = r - 5\n",
    "        Q_new = model.predict(new_state.flatten().reshape(1,-1))\n",
    "        q = Q[0,action]\n",
    "#         print(Q.shape,type(q),q.shape)\n",
    "        target = (reward + \n",
    "          discount_factor * \n",
    "            (q - np.max(\n",
    "              Q_new\n",
    "                 )))\n",
    "        target_vector = Q[0]\n",
    "        target_vector[action] = target\n",
    "        target_batch.append(target_vector.reshape(1,-1))\n",
    "        states_batch.append(state.flatten().reshape(1,-1))\n",
    "        state = new_state\n",
    "        model.fit(state.flatten().reshape(1,1,-1),target_vector.reshape(1,1,-1),epochs=1, verbose=0)\n",
    "#     states_batch = np.array(states_batch).reshape(turns,-1)\n",
    "#     target_batch = np.array(target_batch).reshape(turns,-1)\n",
    "#     print(states_batch.shape)\n",
    "#     model.fit(\n",
    "#           states_batch,  \n",
    "#           target_batch, \n",
    "#           epochs=1, verbose=0)\n",
    "    tested_fields = np.sum(state[:,:,0])\n",
    "    sunken = np.sum(state[:,:,1])\n",
    "    train_turns.append(turns)\n",
    "    train_fields.append(tested_fields)\n",
    "    train_sunken.append(sunken)\n",
    "    if i % 10 == 0:\n",
    "        print(f'test play results after episode {i}')\n",
    "        turns, sunken, tested_fields = play_game(model)\n",
    "        test_turns.append(turns)\n",
    "        test_fields.append(tested_fields)\n",
    "        test_sunken.append(sunken)"
   ]
  },
  {
   "cell_type": "code",
   "execution_count": 8,
   "metadata": {},
   "outputs": [
    {
     "data": {
      "text/plain": [
       "99"
      ]
     },
     "execution_count": 8,
     "metadata": {},
     "output_type": "execute_result"
    }
   ],
   "source": [
    "i"
   ]
  },
  {
   "cell_type": "code",
   "execution_count": 9,
   "metadata": {},
   "outputs": [
    {
     "data": {
      "text/plain": [
       "100"
      ]
     },
     "execution_count": 9,
     "metadata": {},
     "output_type": "execute_result"
    }
   ],
   "source": [
    "turns"
   ]
  },
  {
   "cell_type": "markdown",
   "metadata": {},
   "source": [
    "learning curves"
   ]
  },
  {
   "cell_type": "code",
   "execution_count": 22,
   "metadata": {},
   "outputs": [
    {
     "data": {
      "image/png": "[encoded data removed]",
      "text/plain": [
       "<Figure size 432x288 with 1 Axes>"
      ]
     },
     "metadata": {
      "needs_background": "light"
     },
     "output_type": "display_data"
    }
   ],
   "source": [
    "plt.plot(test_turns)\n",
    "plt.plot(test_fields)\n",
    "plt.plot(test_sunken)\n",
    "plt.show()"
   ]
  },
  {
   "cell_type": "markdown",
   "metadata": {},
   "source": [
    "parameters interpretation"
   ]
  },
  {
   "cell_type": "code",
   "execution_count": 30,
   "metadata": {},
   "outputs": [],
   "source": [
    "weights = model.weights[0].numpy()"
   ]
  },
  {
   "cell_type": "code",
   "execution_count": 31,
   "metadata": {},
   "outputs": [
    {
     "data": {
      "text/plain": [
       "(5, 5, 2, 1)"
      ]
     },
     "execution_count": 31,
     "metadata": {},
     "output_type": "execute_result"
    }
   ],
   "source": [
    "weights.shape"
   ]
  },
  {
   "cell_type": "markdown",
   "metadata": {},
   "source": [
    "tested fields filter"
   ]
  },
  {
   "cell_type": "code",
   "execution_count": 37,
   "metadata": {},
   "outputs": [
    {
     "data": {
      "text/plain": [
       "<matplotlib.image.AxesImage at 0x1490c8adc70>"
      ]
     },
     "execution_count": 37,
     "metadata": {},
     "output_type": "execute_result"
    },
    {
     "data": {
      "image/png": "[encoded data removed]",
      "text/plain": [
       "<Figure size 432x288 with 1 Axes>"
      ]
     },
     "metadata": {
      "needs_background": "light"
     },
     "output_type": "display_data"
    }
   ],
   "source": [
    "plt.imshow(weights[:,:,0,0])"
   ]
  },
  {
   "cell_type": "markdown",
   "metadata": {},
   "source": [
    " suken ships filter"
   ]
  },
  {
   "cell_type": "code",
   "execution_count": 35,
   "metadata": {},
   "outputs": [
    {
     "data": {
      "text/plain": [
       "<matplotlib.image.AxesImage at 0x1490d4019a0>"
      ]
     },
     "execution_count": 35,
     "metadata": {},
     "output_type": "execute_result"
    },
    {
     "data": {
      "image/png": "[encoded data removed]",
      "text/plain": [
       "<Figure size 432x288 with 1 Axes>"
      ]
     },
     "metadata": {
      "needs_background": "light"
     },
     "output_type": "display_data"
    }
   ],
   "source": [
    "plt.imshow(weights[:,:,1,0])"
   ]
  },
  {
   "cell_type": "code",
   "execution_count": 43,
   "metadata": {},
   "outputs": [
    {
     "name": "stderr",
     "output_type": "stream",
     "text": [
      "100%|██████████████████████████████████████████████████████████████████████████████████| 20/20 [01:19<00:00,  3.97s/it]"
     ]
    },
    {
     "name": "stdout",
     "output_type": "stream",
     "text": [
      "97.75\n",
      "20.0\n",
      "97.75\n"
     ]
    },
    {
     "name": "stderr",
     "output_type": "stream",
     "text": [
      "\n"
     ]
    }
   ],
   "source": [
    "test_turns = []\n",
    "test_sunken = []\n",
    "test_fields = []\n",
    "turns, sunken, tested_fields = 0,0,0\n",
    "for i in tqdm(range(20)):\n",
    "    turns, sunken, tested_fields = play_game(model, print_info=False)\n",
    "    test_turns.append(turns)\n",
    "    test_fields.append(tested_fields)\n",
    "    test_sunken.append(sunken)\n",
    "print(np.mean(test_turns))\n",
    "print(np.mean(test_sunken))\n",
    "print(np.mean(test_fields))"
   ]
  },
  {
   "cell_type": "code",
   "execution_count": 48,
   "metadata": {},
   "outputs": [],
   "source": [
    "w0 = model.weights[0].numpy()\n",
    "w1 = model.weights[1].numpy()"
   ]
  },
  {
   "cell_type": "code",
   "execution_count": 53,
   "metadata": {
    "collapsed": true
   },
   "outputs": [
    {
     "name": "stdout",
     "output_type": "stream",
     "text": [
      "[[[[ 3.18499625e-01]\n",
      "   [-2.66354624e-02]]\n",
      "\n",
      "  [[ 4.80377853e-01]\n",
      "   [-4.26989824e-01]]\n",
      "\n",
      "  [[ 1.55931011e-01]\n",
      "   [ 4.58815634e-01]]\n",
      "\n",
      "  [[ 4.37124670e-01]\n",
      "   [ 3.52269500e-01]]\n",
      "\n",
      "  [[ 2.28693634e-01]\n",
      "   [-6.30790293e-01]]]\n",
      "\n",
      "\n",
      " [[[ 4.54395451e-03]\n",
      "   [-1.12376845e+00]]\n",
      "\n",
      "  [[-1.21115886e-01]\n",
      "   [ 1.74029812e-01]]\n",
      "\n",
      "  [[ 5.42712986e-01]\n",
      "   [-6.38341159e-02]]\n",
      "\n",
      "  [[ 4.01279688e-01]\n",
      "   [ 6.86757982e-01]]\n",
      "\n",
      "  [[-2.60712057e-01]\n",
      "   [-1.11941016e+00]]]\n",
      "\n",
      "\n",
      " [[[ 3.18737119e-01]\n",
      "   [ 9.11089927e-02]]\n",
      "\n",
      "  [[-2.14447424e-01]\n",
      "   [ 8.19894522e-02]]\n",
      "\n",
      "  [[-4.43702393e+01]\n",
      "   [ 1.03068752e+01]]\n",
      "\n",
      "  [[-6.95348606e-02]\n",
      "   [ 8.58713165e-02]]\n",
      "\n",
      "  [[-6.08133897e-02]\n",
      "   [-2.46061146e-01]]]\n",
      "\n",
      "\n",
      " [[[-5.65936089e-01]\n",
      "   [ 3.14782470e-01]]\n",
      "\n",
      "  [[ 1.26882300e-01]\n",
      "   [ 3.70053574e-02]]\n",
      "\n",
      "  [[ 5.54339230e-01]\n",
      "   [ 1.47755325e-01]]\n",
      "\n",
      "  [[-3.31431597e-01]\n",
      "   [ 5.52995443e-01]]\n",
      "\n",
      "  [[-9.40761343e-02]\n",
      "   [ 9.69765633e-02]]]\n",
      "\n",
      "\n",
      " [[[ 3.40548038e-01]\n",
      "   [ 6.96009845e-02]]\n",
      "\n",
      "  [[ 6.46156892e-02]\n",
      "   [-1.72884747e-01]]\n",
      "\n",
      "  [[-2.32868031e-01]\n",
      "   [-1.06056452e+00]]\n",
      "\n",
      "  [[ 1.34139195e-01]\n",
      "   [ 7.84232259e-01]]\n",
      "\n",
      "  [[ 1.40649676e-01]\n",
      "   [ 2.11686000e-01]]]] [39.490784]\n"
     ]
    }
   ],
   "source": [
    "print(w0,w1)"
   ]
  },
  {
   "cell_type": "markdown",
   "metadata": {},
   "source": [
    "more complicated network architecture "
   ]
  },
  {
   "cell_type": "code",
   "execution_count": 10,
   "metadata": {},
   "outputs": [],
   "source": [
    "def model_conv_2_():\n",
    "    model = Sequential()\n",
    "    model.add(Reshape((10,10,2),input_shape=(1,200)))\n",
    "    kern_shape = (5,5)\n",
    "    model.add(Conv2D(filters=4,kernel_size =kern_shape,strides=(1,1), padding='same', activation='relu', input_shape=(10, 10, 2),use_bias=False))\n",
    "    model.add(Conv2D(filters=1,kernel_size =(4,4),strides=(1,1), padding='same', activation='linear', input_shape=(10, 10, 4),use_bias=False))\n",
    "#     model.add(Conv2D(filters=1,kernel_size =(2,2),strides=(1,1), padding='same', activation='linear', input_shape=(10, 10, 4),use_bias=False))\n",
    "    model.add(Flatten())\n",
    "    opt = Adam(learning_rate=0.05)\n",
    "    model.compile(loss='mse', optimizer=opt, metrics=['mse'])\n",
    "    return model"
   ]
  },
  {
   "cell_type": "code",
   "execution_count": 11,
   "metadata": {},
   "outputs": [],
   "source": [
    "test_turns = []\n",
    "test_sunken = []\n",
    "test_fields = []\n",
    "\n",
    "train_turns = []\n",
    "train_sunken = []\n",
    "train_fields = []\n",
    "episodes = []\n",
    "\n",
    "eps0 = 0.25\n",
    "eps_decay_factor = 0.99\n",
    "num_episodes= 150\n",
    "start_epochs = 0\n",
    "discount_factor = 0.9 # was 0.99\n",
    "\n",
    "model = model_conv_2_()"
   ]
  },
  {
   "cell_type": "code",
   "execution_count": 12,
   "metadata": {},
   "outputs": [
    {
     "name": "stderr",
     "output_type": "stream",
     "text": [
      "\r",
      "  0%|                                                                                          | 0/150 [00:00<?, ?it/s]"
     ]
    },
    {
     "name": "stdout",
     "output_type": "stream",
     "text": [
      "pretraining finished\n",
      "WARNING:tensorflow:Model was constructed with shape (None, 1, 200) for input KerasTensor(type_spec=TensorSpec(shape=(None, 1, 200), dtype=tf.float32, name='reshape_1_input'), name='reshape_1_input', description=\"created by layer 'reshape_1_input'\"), but it was called on an input with incompatible shape (None, 200).\n",
      "train play results on episode 0\n",
      "epsilon 0.2475\n",
      "sunken ships: 12.0\n",
      "ships left: 8.0\n",
      "fields tested: 62.0\n",
      "-------------\n",
      "test play results after episode 0\n",
      "WARNING:tensorflow:Model was constructed with shape (None, 1, 200) for input KerasTensor(type_spec=TensorSpec(shape=(None, 1, 200), dtype=tf.float32, name='reshape_1_input'), name='reshape_1_input', description=\"created by layer 'reshape_1_input'\"), but it was called on an input with incompatible shape (None, 10, 10, 2).\n"
     ]
    },
    {
     "name": "stderr",
     "output_type": "stream",
     "text": [
      "\r",
      "  1%|▌                                                                                 | 1/150 [00:17<42:42, 17.20s/it]"
     ]
    },
    {
     "name": "stdout",
     "output_type": "stream",
     "text": [
      "turns : 100\n",
      "sunken ships: 6.0\n",
      "ships left: 14.0\n",
      "fields tested: 15.0\n"
     ]
    },
    {
     "name": "stderr",
     "output_type": "stream",
     "text": [
      "\r",
      "  1%|█                                                                                 | 2/150 [00:29<38:56, 15.79s/it]"
     ]
    },
    {
     "name": "stdout",
     "output_type": "stream",
     "text": [
      "train play results on episode 1\n",
      "epsilon 0.245025\n",
      "sunken ships: 13.0\n",
      "ships left: 7.0\n",
      "fields tested: 62.0\n",
      "-------------\n"
     ]
    },
    {
     "name": "stderr",
     "output_type": "stream",
     "text": [
      "\r",
      "  2%|█▋                                                                                | 3/150 [00:42<36:19, 14.82s/it]"
     ]
    },
    {
     "name": "stdout",
     "output_type": "stream",
     "text": [
      "train play results on episode 2\n",
      "epsilon 0.24257474999999998\n",
      "sunken ships: 14.0\n",
      "ships left: 6.0\n",
      "fields tested: 67.0\n",
      "-------------\n"
     ]
    },
    {
     "name": "stderr",
     "output_type": "stream",
     "text": [
      "\r",
      "  3%|██▏                                                                               | 4/150 [00:54<34:32, 14.20s/it]"
     ]
    },
    {
     "name": "stdout",
     "output_type": "stream",
     "text": [
      "train play results on episode 3\n",
      "epsilon 0.2401490025\n",
      "sunken ships: 14.0\n",
      "ships left: 6.0\n",
      "fields tested: 64.0\n",
      "-------------\n"
     ]
    },
    {
     "name": "stderr",
     "output_type": "stream",
     "text": [
      "\r",
      "  3%|██▋                                                                               | 5/150 [01:07<33:26, 13.84s/it]"
     ]
    },
    {
     "name": "stdout",
     "output_type": "stream",
     "text": [
      "train play results on episode 4\n",
      "epsilon 0.23774751247499998\n",
      "sunken ships: 16.0\n",
      "ships left: 4.0\n",
      "fields tested: 59.0\n",
      "-------------\n"
     ]
    },
    {
     "name": "stderr",
     "output_type": "stream",
     "text": [
      "\r",
      "  4%|███▎                                                                              | 6/150 [01:20<32:30, 13.54s/it]"
     ]
    },
    {
     "name": "stdout",
     "output_type": "stream",
     "text": [
      "train play results on episode 5\n",
      "epsilon 0.23537003735024997\n",
      "sunken ships: 13.0\n",
      "ships left: 7.0\n",
      "fields tested: 67.0\n",
      "-------------\n"
     ]
    },
    {
     "name": "stderr",
     "output_type": "stream",
     "text": [
      "\r",
      "  5%|███▊                                                                              | 7/150 [01:33<31:29, 13.21s/it]"
     ]
    },
    {
     "name": "stdout",
     "output_type": "stream",
     "text": [
      "train play results on episode 6\n",
      "epsilon 0.23301633697674748\n",
      "sunken ships: 6.0\n",
      "ships left: 14.0\n",
      "fields tested: 51.0\n",
      "-------------\n"
     ]
    },
    {
     "name": "stderr",
     "output_type": "stream",
     "text": [
      "\r",
      "  5%|████▎                                                                             | 8/150 [01:45<30:51, 13.04s/it]"
     ]
    },
    {
     "name": "stdout",
     "output_type": "stream",
     "text": [
      "train play results on episode 7\n",
      "epsilon 0.23068617360698\n",
      "sunken ships: 12.0\n",
      "ships left: 8.0\n",
      "fields tested: 60.0\n",
      "-------------\n"
     ]
    },
    {
     "name": "stderr",
     "output_type": "stream",
     "text": [
      "\r",
      "  6%|████▉                                                                             | 9/150 [01:58<30:17, 12.89s/it]"
     ]
    },
    {
     "name": "stdout",
     "output_type": "stream",
     "text": [
      "train play results on episode 8\n",
      "epsilon 0.22837931187091018\n",
      "sunken ships: 11.0\n",
      "ships left: 9.0\n",
      "fields tested: 56.0\n",
      "-------------\n"
     ]
    },
    {
     "name": "stderr",
     "output_type": "stream",
     "text": [
      "\r",
      "  7%|█████▍                                                                           | 10/150 [02:11<29:54, 12.82s/it]"
     ]
    },
    {
     "name": "stdout",
     "output_type": "stream",
     "text": [
      "train play results on episode 9\n",
      "epsilon 0.22609551875220107\n",
      "sunken ships: 10.0\n",
      "ships left: 10.0\n",
      "fields tested: 39.0\n",
      "-------------\n",
      "train play results on episode 10\n",
      "epsilon 0.22383456356467907\n",
      "sunken ships: 12.0\n",
      "ships left: 8.0\n",
      "fields tested: 57.0\n",
      "-------------\n",
      "test play results after episode 10\n"
     ]
    },
    {
     "name": "stderr",
     "output_type": "stream",
     "text": [
      "\r",
      "  7%|█████▉                                                                           | 11/150 [02:27<32:21, 13.97s/it]"
     ]
    },
    {
     "name": "stdout",
     "output_type": "stream",
     "text": [
      "turns : 100\n",
      "sunken ships: 1.0\n",
      "ships left: 19.0\n",
      "fields tested: 2.0\n"
     ]
    },
    {
     "name": "stderr",
     "output_type": "stream",
     "text": [
      "\r",
      "  8%|██████▍                                                                          | 12/150 [02:40<31:17, 13.61s/it]"
     ]
    },
    {
     "name": "stdout",
     "output_type": "stream",
     "text": [
      "train play results on episode 11\n",
      "epsilon 0.22159621792903228\n",
      "sunken ships: 12.0\n",
      "ships left: 8.0\n",
      "fields tested: 59.0\n",
      "-------------\n"
     ]
    },
    {
     "name": "stderr",
     "output_type": "stream",
     "text": [
      "\r",
      "  9%|███████                                                                          | 13/150 [02:53<30:29, 13.35s/it]"
     ]
    },
    {
     "name": "stdout",
     "output_type": "stream",
     "text": [
      "train play results on episode 12\n",
      "epsilon 0.21938025574974196\n",
      "sunken ships: 10.0\n",
      "ships left: 10.0\n",
      "fields tested: 59.0\n",
      "-------------\n"
     ]
    },
    {
     "name": "stderr",
     "output_type": "stream",
     "text": [
      "\r",
      "  9%|███████▌                                                                         | 14/150 [03:05<29:41, 13.10s/it]"
     ]
    },
    {
     "name": "stdout",
     "output_type": "stream",
     "text": [
      "train play results on episode 13\n",
      "epsilon 0.21718645319224453\n",
      "sunken ships: 10.0\n",
      "ships left: 10.0\n",
      "fields tested: 51.0\n",
      "-------------\n"
     ]
    },
    {
     "name": "stderr",
     "output_type": "stream",
     "text": [
      "\r",
      " 10%|████████                                                                         | 15/150 [03:18<29:06, 12.94s/it]"
     ]
    },
    {
     "name": "stdout",
     "output_type": "stream",
     "text": [
      "train play results on episode 14\n",
      "epsilon 0.21501458866032208\n",
      "sunken ships: 14.0\n",
      "ships left: 6.0\n",
      "fields tested: 55.0\n",
      "-------------\n",
      "train play results on episode 15\n",
      "epsilon 0.21286444277371885\n",
      "sunken ships: 11.0\n",
      "ships left: 9.0\n",
      "fields tested: 44.0\n",
      "-------------\n"
     ]
    },
    {
     "name": "stderr",
     "output_type": "stream",
     "text": [
      " 11%|█████████▏                                                                       | 17/150 [03:45<29:02, 13.10s/it]"
     ]
    },
    {
     "name": "stdout",
     "output_type": "stream",
     "text": [
      "train play results on episode 16\n",
      "epsilon 0.21073579834598166\n",
      "sunken ships: 12.0\n",
      "ships left: 8.0\n",
      "fields tested: 46.0\n",
      "-------------\n"
     ]
    },
    {
     "name": "stderr",
     "output_type": "stream",
     "text": [
      "\r",
      " 12%|█████████▋                                                                       | 18/150 [03:58<29:00, 13.18s/it]"
     ]
    },
    {
     "name": "stdout",
     "output_type": "stream",
     "text": [
      "train play results on episode 17\n",
      "epsilon 0.20862844036252184\n",
      "sunken ships: 13.0\n",
      "ships left: 7.0\n",
      "fields tested: 57.0\n",
      "-------------\n"
     ]
    },
    {
     "name": "stderr",
     "output_type": "stream",
     "text": [
      "\r",
      " 13%|██████████▎                                                                      | 19/150 [04:11<28:31, 13.07s/it]"
     ]
    },
    {
     "name": "stdout",
     "output_type": "stream",
     "text": [
      "train play results on episode 18\n",
      "epsilon 0.20654215595889663\n",
      "sunken ships: 10.0\n",
      "ships left: 10.0\n",
      "fields tested: 47.0\n",
      "-------------\n"
     ]
    },
    {
     "name": "stderr",
     "output_type": "stream",
     "text": [
      "\r",
      " 13%|██████████▊                                                                      | 20/150 [04:24<28:07, 12.98s/it]"
     ]
    },
    {
     "name": "stdout",
     "output_type": "stream",
     "text": [
      "train play results on episode 19\n",
      "epsilon 0.20447673439930766\n",
      "sunken ships: 11.0\n",
      "ships left: 9.0\n",
      "fields tested: 57.0\n",
      "-------------\n",
      "train play results on episode 20\n",
      "epsilon 0.20243196705531458\n",
      "sunken ships: 12.0\n",
      "ships left: 8.0\n",
      "fields tested: 62.0\n",
      "-------------\n",
      "test play results after episode 20\n"
     ]
    },
    {
     "name": "stderr",
     "output_type": "stream",
     "text": [
      "\r",
      " 14%|███████████▎                                                                     | 21/150 [04:40<30:23, 14.14s/it]"
     ]
    },
    {
     "name": "stdout",
     "output_type": "stream",
     "text": [
      "turns : 100\n",
      "sunken ships: 5.0\n",
      "ships left: 15.0\n",
      "fields tested: 17.0\n"
     ]
    },
    {
     "name": "stderr",
     "output_type": "stream",
     "text": [
      "\r",
      " 15%|███████████▉                                                                     | 22/150 [04:53<29:12, 13.70s/it]"
     ]
    },
    {
     "name": "stdout",
     "output_type": "stream",
     "text": [
      "train play results on episode 21\n",
      "epsilon 0.20040764738476144\n",
      "sunken ships: 12.0\n",
      "ships left: 8.0\n",
      "fields tested: 55.0\n",
      "-------------\n"
     ]
    },
    {
     "name": "stderr",
     "output_type": "stream",
     "text": [
      "\r",
      " 15%|████████████▍                                                                    | 23/150 [05:06<28:21, 13.40s/it]"
     ]
    },
    {
     "name": "stdout",
     "output_type": "stream",
     "text": [
      "train play results on episode 22\n",
      "epsilon 0.19840357091091382\n",
      "sunken ships: 10.0\n",
      "ships left: 10.0\n",
      "fields tested: 47.0\n",
      "-------------\n"
     ]
    },
    {
     "name": "stderr",
     "output_type": "stream",
     "text": [
      "\r",
      " 16%|████████████▉                                                                    | 24/150 [05:18<27:33, 13.12s/it]"
     ]
    },
    {
     "name": "stdout",
     "output_type": "stream",
     "text": [
      "train play results on episode 23\n",
      "epsilon 0.1964195352018047\n",
      "sunken ships: 15.0\n",
      "ships left: 5.0\n",
      "fields tested: 63.0\n",
      "-------------\n"
     ]
    },
    {
     "name": "stderr",
     "output_type": "stream",
     "text": [
      "\r",
      " 17%|█████████████▌                                                                   | 25/150 [05:31<27:00, 12.97s/it]"
     ]
    },
    {
     "name": "stdout",
     "output_type": "stream",
     "text": [
      "train play results on episode 24\n",
      "epsilon 0.19445533984978663\n",
      "sunken ships: 5.0\n",
      "ships left: 15.0\n",
      "fields tested: 45.0\n",
      "-------------\n"
     ]
    },
    {
     "name": "stderr",
     "output_type": "stream",
     "text": [
      "\r",
      " 17%|██████████████                                                                   | 26/150 [05:43<26:32, 12.84s/it]"
     ]
    },
    {
     "name": "stdout",
     "output_type": "stream",
     "text": [
      "train play results on episode 25\n",
      "epsilon 0.19251078645128877\n",
      "sunken ships: 11.0\n",
      "ships left: 9.0\n",
      "fields tested: 58.0\n",
      "-------------\n"
     ]
    },
    {
     "name": "stderr",
     "output_type": "stream",
     "text": [
      "Exception ignored in: <generator object tqdm.__iter__ at 0x000001E111D03B30>\n",
      "Traceback (most recent call last):\n",
      "  File \"C:\\Users\\Serg\\anaconda3\\lib\\site-packages\\tqdm\\std.py\", line 1182, in __iter__\n",
      "    self.close()\n",
      "  File \"C:\\Users\\Serg\\anaconda3\\lib\\site-packages\\tqdm\\std.py\", line 1270, in close\n",
      "    self._decr_instances(self)\n",
      "  File \"C:\\Users\\Serg\\anaconda3\\lib\\site-packages\\tqdm\\std.py\", line 572, in _decr_instances\n",
      "    cls.monitor.exit()\n",
      "  File \"C:\\Users\\Serg\\anaconda3\\lib\\site-packages\\tqdm\\_monitor.py\", line 53, in exit\n",
      "    self.join()\n",
      "  File \"C:\\Users\\Serg\\anaconda3\\lib\\threading.py\", line 1011, in join\n",
      "    self._wait_for_tstate_lock()\n",
      "  File \"C:\\Users\\Serg\\anaconda3\\lib\\threading.py\", line 1027, in _wait_for_tstate_lock\n",
      "    elif lock.acquire(block, timeout):\n",
      "KeyboardInterrupt: \n"
     ]
    },
    {
     "ename": "KeyboardInterrupt",
     "evalue": "",
     "output_type": "error",
     "traceback": [
      "\u001b[1;31m---------------------------------------------------------------------------\u001b[0m",
      "\u001b[1;31mKeyboardInterrupt\u001b[0m                         Traceback (most recent call last)",
      "\u001b[1;32m<ipython-input-12-40cd1ed5bdef>\u001b[0m in \u001b[0;36m<module>\u001b[1;34m\u001b[0m\n\u001b[0;32m      1\u001b[0m \u001b[1;32mfor\u001b[0m \u001b[0mi\u001b[0m \u001b[1;32min\u001b[0m \u001b[0mtqdm\u001b[0m\u001b[1;33m(\u001b[0m\u001b[0mrange\u001b[0m\u001b[1;33m(\u001b[0m\u001b[0mnum_episodes\u001b[0m\u001b[1;33m)\u001b[0m\u001b[1;33m)\u001b[0m\u001b[1;33m:\u001b[0m\u001b[1;33m\u001b[0m\u001b[1;33m\u001b[0m\u001b[0m\n\u001b[1;32m----> 2\u001b[1;33m     \u001b[0mfield\u001b[0m \u001b[1;33m=\u001b[0m \u001b[0mNavalWarfare_v2\u001b[0m\u001b[1;33m(\u001b[0m\u001b[1;36m10\u001b[0m\u001b[1;33m)\u001b[0m\u001b[1;33m\u001b[0m\u001b[1;33m\u001b[0m\u001b[0m\n\u001b[0m\u001b[0;32m      3\u001b[0m     \u001b[0mN\u001b[0m \u001b[1;33m=\u001b[0m \u001b[0mfield\u001b[0m\u001b[1;33m.\u001b[0m\u001b[0mN\u001b[0m\u001b[1;33m\u001b[0m\u001b[1;33m\u001b[0m\u001b[0m\n\u001b[0;32m      4\u001b[0m     \u001b[0mactions\u001b[0m \u001b[1;33m=\u001b[0m \u001b[0mfield\u001b[0m\u001b[1;33m.\u001b[0m\u001b[0mactions\u001b[0m\u001b[1;33m\u001b[0m\u001b[1;33m\u001b[0m\u001b[0m\n\u001b[0;32m      5\u001b[0m     \u001b[0mstate\u001b[0m \u001b[1;33m=\u001b[0m \u001b[0mfield\u001b[0m\u001b[1;33m.\u001b[0m\u001b[0mobservable\u001b[0m\u001b[1;33m\u001b[0m\u001b[1;33m\u001b[0m\u001b[0m\n",
      "\u001b[1;32m<ipython-input-9-688eddfe0178>\u001b[0m in \u001b[0;36m__init__\u001b[1;34m(self, field_size)\u001b[0m\n\u001b[0;32m     14\u001b[0m                 \u001b[0morientation\u001b[0m \u001b[1;33m=\u001b[0m \u001b[0mnp\u001b[0m\u001b[1;33m.\u001b[0m\u001b[0mrandom\u001b[0m\u001b[1;33m.\u001b[0m\u001b[0mrandint\u001b[0m\u001b[1;33m(\u001b[0m\u001b[1;36m2\u001b[0m\u001b[1;33m)\u001b[0m\u001b[1;33m\u001b[0m\u001b[1;33m\u001b[0m\u001b[0m\n\u001b[0;32m     15\u001b[0m                 \u001b[0misNotReady\u001b[0m \u001b[1;33m=\u001b[0m \u001b[1;32mFalse\u001b[0m\u001b[1;33m\u001b[0m\u001b[1;33m\u001b[0m\u001b[0m\n\u001b[1;32m---> 16\u001b[1;33m                 \u001b[1;32mfor\u001b[0m \u001b[0mi\u001b[0m \u001b[1;32min\u001b[0m \u001b[0mrange\u001b[0m\u001b[1;33m(\u001b[0m\u001b[0mship\u001b[0m\u001b[1;33m)\u001b[0m\u001b[1;33m:\u001b[0m\u001b[1;33m\u001b[0m\u001b[1;33m\u001b[0m\u001b[0m\n\u001b[0m\u001b[0;32m     17\u001b[0m                     if (state[x,y] != 1 \n\u001b[0;32m     18\u001b[0m                     \u001b[1;32mand\u001b[0m \u001b[0mstate\u001b[0m\u001b[1;33m[\u001b[0m\u001b[0mx\u001b[0m\u001b[1;33m-\u001b[0m\u001b[1;36m1\u001b[0m\u001b[1;33m,\u001b[0m \u001b[0my\u001b[0m\u001b[1;33m]\u001b[0m \u001b[1;33m!=\u001b[0m \u001b[1;36m1\u001b[0m \u001b[1;32mand\u001b[0m \u001b[0mstate\u001b[0m\u001b[1;33m[\u001b[0m\u001b[0mx\u001b[0m\u001b[1;33m+\u001b[0m\u001b[1;36m1\u001b[0m\u001b[1;33m,\u001b[0m \u001b[0my\u001b[0m\u001b[1;33m]\u001b[0m \u001b[1;33m!=\u001b[0m \u001b[1;36m1\u001b[0m\u001b[1;33m\u001b[0m\u001b[1;33m\u001b[0m\u001b[0m\n",
      "\u001b[1;31mKeyboardInterrupt\u001b[0m: "
     ]
    }
   ],
   "source": [
    "for i in tqdm(range(num_episodes)):\n",
    "    field = NavalWarfare_v2(10)\n",
    "    N = field.N\n",
    "    actions = field.actions\n",
    "    state = field.observable\n",
    "    if i < start_epochs:\n",
    "        eps = 1\n",
    "    elif i == start_epochs:\n",
    "        print('pretraining finished')\n",
    "        eps = eps0\n",
    "    eps *= eps_decay_factor\n",
    "    end_game = False\n",
    "    turns = 0\n",
    "    target_batch = []\n",
    "    states_batch = []\n",
    "    while not end_game and (turns < 100 or i < start_epochs):\n",
    "        turns += 1\n",
    "        if turns % 100 == 0:\n",
    "#             S = (np.sum(field.state) + 20 ) // 2\n",
    "#             sunken = 20 - S\n",
    "#             tested_fields = np.sum(state < 0)\n",
    "#             print(np.sum(field.state))\n",
    "#             print(np.sum(state))\n",
    "            tested_fields = np.sum(state[:,:,0])\n",
    "            sunken = np.sum(state[:,:,1])\n",
    "            print(f'train play results on episode {i}')\n",
    "            print(f'epsilon {eps}')\n",
    "            print(f'sunken ships: {sunken}')\n",
    "            print(f'ships left: {20 - sunken}')\n",
    "            print(f'fields tested: {tested_fields}')\n",
    "            print(f'-------------')\n",
    "            \n",
    "        Q = model.predict(state.flatten().reshape(1,-1))\n",
    "        if np.random.random() < eps:\n",
    "            action = np.random.choice(actions)\n",
    "        else:\n",
    "            action = np.argmax(\n",
    "                Q\n",
    "              )\n",
    "        r,end_game,repeat,new_state = field.move(action)\n",
    "        reward = r - 5\n",
    "        Q_new = model.predict(new_state.flatten().reshape(1,-1))\n",
    "        q = Q[0,action]\n",
    "#         print(Q.shape,type(q),q.shape)\n",
    "        target = (reward + \n",
    "          discount_factor * \n",
    "            (q - np.max(\n",
    "              Q_new\n",
    "                 )))\n",
    "        target_vector = Q[0]\n",
    "        target_vector[action] = target\n",
    "        target_batch.append(target_vector.reshape(1,-1))\n",
    "        states_batch.append(state.flatten().reshape(1,-1))\n",
    "        state = new_state\n",
    "        model.fit(state.flatten().reshape(1,1,-1),target_vector.reshape(1,1,-1),epochs=1, verbose=0)\n",
    "#     states_batch = np.array(states_batch).reshape(turns,-1)\n",
    "#     target_batch = np.array(target_batch).reshape(turns,-1)\n",
    "#     print(states_batch.shape)\n",
    "#     model.fit(\n",
    "#           states_batch,  \n",
    "#           target_batch, \n",
    "#           epochs=1, verbose=0)\n",
    "    tested_fields = np.sum(state[:,:,0])\n",
    "    sunken = np.sum(state[:,:,1])\n",
    "    train_turns.append(turns)\n",
    "    train_fields.append(tested_fields)\n",
    "    train_sunken.append(sunken)\n",
    "    if i % 10 == 0:\n",
    "        print(f'test play results after episode {i}')\n",
    "        turns, sunken, tested_fields = play_game(model)\n",
    "        test_turns.append(turns)\n",
    "        test_fields.append(tested_fields)\n",
    "        test_sunken.append(sunken)"
   ]
  },
  {
   "cell_type": "code",
   "execution_count": 92,
   "metadata": {},
   "outputs": [],
   "source": [
    "weights = model.weights[0]"
   ]
  },
  {
   "cell_type": "code",
   "execution_count": 93,
   "metadata": {},
   "outputs": [
    {
     "data": {
      "text/plain": [
       "<matplotlib.image.AxesImage at 0x14917287bb0>"
      ]
     },
     "execution_count": 93,
     "metadata": {},
     "output_type": "execute_result"
    },
    {
     "data": {
      "image/png": "[encoded data removed]",
      "text/plain": [
       "<Figure size 432x288 with 1 Axes>"
      ]
     },
     "metadata": {
      "needs_background": "light"
     },
     "output_type": "display_data"
    }
   ],
   "source": [
    "plt.imshow(weights[:,:,0,1])"
   ]
  },
  {
   "cell_type": "code",
   "execution_count": 65,
   "metadata": {},
   "outputs": [
    {
     "data": {
      "text/plain": [
       "<tf.Tensor: shape=(5, 5), dtype=float32, numpy=\n",
       "array([[-0.26060268,  0.03132842, -0.26821512, -0.560089  ,  0.40299687],\n",
       "       [-0.30829173, -0.2801677 , -0.614011  , -0.04526449, -0.31538263],\n",
       "       [ 0.02985445, -0.20558262, -0.46046975, -0.6654351 , -0.28443277],\n",
       "       [-0.02464282, -0.7611717 , -0.40779483,  0.22664683, -0.12330326],\n",
       "       [-0.4942198 , -0.11929625, -0.27925485, -0.11105519, -0.4841313 ]],\n",
       "      dtype=float32)>"
      ]
     },
     "execution_count": 65,
     "metadata": {},
     "output_type": "execute_result"
    }
   ],
   "source": [
    "weights[:,:,0,1]"
   ]
  },
  {
   "cell_type": "code",
   "execution_count": 88,
   "metadata": {},
   "outputs": [
    {
     "name": "stderr",
     "output_type": "stream",
     "text": [
      "100%|██████████████████████████████████████████████████████████████████████████████████| 20/20 [01:18<00:00,  3.93s/it]"
     ]
    },
    {
     "name": "stdout",
     "output_type": "stream",
     "text": [
      "100.0\n",
      "0.75\n",
      "3.6\n"
     ]
    },
    {
     "name": "stderr",
     "output_type": "stream",
     "text": [
      "\n"
     ]
    }
   ],
   "source": [
    "test_turns = []\n",
    "test_sunken = []\n",
    "test_fields = []\n",
    "turns, sunken, tested_fields = 0,0,0\n",
    "for i in tqdm(range(20)):\n",
    "    turns, sunken, tested_fields = play_game(model, print_info=False)\n",
    "    test_turns.append(turns)\n",
    "    test_fields.append(tested_fields)\n",
    "    test_sunken.append(sunken)\n",
    "print(np.mean(test_turns))\n",
    "print(np.mean(test_sunken))\n",
    "print(np.mean(test_fields))"
   ]
  },
  {
   "cell_type": "code",
   "execution_count": null,
   "metadata": {},
   "outputs": [],
   "source": []
  }
 ],
 "metadata": {
  "kernelspec": {
   "display_name": "Python 3",
   "language": "python",
   "name": "python3"
  },
  "language_info": {
   "codemirror_mode": {
    "name": "ipython",
    "version": 3
   },
   "file_extension": ".py",
   "mimetype": "text/x-python",
   "name": "python",
   "nbconvert_exporter": "python",
   "pygments_lexer": "ipython3",
   "version": "3.8.3"
  }
 },
 "nbformat": 4,
 "nbformat_minor": 4
}
